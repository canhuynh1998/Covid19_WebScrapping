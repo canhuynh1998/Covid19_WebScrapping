{
 "metadata": {
  "language_info": {
   "codemirror_mode": {
    "name": "ipython",
    "version": 3
   },
   "file_extension": ".py",
   "mimetype": "text/x-python",
   "name": "python",
   "nbconvert_exporter": "python",
   "pygments_lexer": "ipython3",
   "version": "3.7.6-final"
  },
  "orig_nbformat": 2,
  "kernelspec": {
   "name": "python3",
   "display_name": "Python 3",
   "language": "python"
  }
 },
 "nbformat": 4,
 "nbformat_minor": 2,
 "cells": [
  {
   "cell_type": "code",
   "execution_count": 105,
   "metadata": {},
   "outputs": [],
   "source": [
    "import requests\n",
    "from bs4 import BeautifulSoup\n",
    "\n",
    "USA = \"https://www.worldometers.info/coronavirus/usa/california/\"\n",
    "html = requests.get(USA)\n",
    "\n",
    "soup = BeautifulSoup(html.text, 'lxml')"
   ]
  },
  {
   "cell_type": "code",
   "execution_count": 106,
   "metadata": {},
   "outputs": [
    {
     "output_type": "execute_result",
     "data": {
      "text/plain": [
       "<tr style=\"\">\n",
       "<td style=\"font-weight: bold; font-size:15px; text-align:left;\">\n",
       "Los Angeles </td>\n",
       "<td style=\"font-weight: bold; text-align:right\">580,325 </td>\n",
       "<td style=\"font-weight: bold; text-align:right;\">\n",
       "</td>\n",
       "<td style=\"font-weight: bold; text-align:right;\">\n",
       "8,664 </td>\n",
       "<td style=\"font-weight: bold; text-align:right;\"> </td>\n",
       "<td style=\"text-align:right;font-weight:bold;\">\n",
       "N/A </td>\n",
       "<td style=\"text-align:right;font-weight:bold;\">\n",
       "4,265,732 </td>\n",
       "<td style=\"text-align:right;font-size:12px;\">\n",
       "<nobr>[<a class=\"source\" href=\"http://publichealth.lacounty.gov/media/Coronavirus/data/index.htm\" target=\"_blank\">county</a>] </nobr>[<a class=\"source\" href=\"https://public.tableau.com/views/COVID-19CasesDashboard_15931020425010/Cases?:embed=y&amp;:showVizHome=no\" target=\"_blank\">state</a>]  </td>\n",
       "</tr>"
      ]
     },
     "metadata": {},
     "execution_count": 106
    }
   ],
   "source": [
    "# table = soup.find(\"table\", attrs={\"id\" : \"usa_table_countries_today\"})\n",
    "# head = table.thead.find_all(\"tr\")\n",
    "# head\n",
    "\n",
    "table = soup.find(\"table\", attrs={\"id\" : \"usa_table_countries_today\"})\n",
    "head = table.tbody.find_all(\"tr\")\n",
    "head[1]"
   ]
  },
  {
   "cell_type": "code",
   "execution_count": 107,
   "metadata": {},
   "outputs": [
    {
     "output_type": "execute_result",
     "data": {
      "text/plain": [
       "[('California Total', 1759876, 0, 22146, 0, 1016753, 28456358),\n",
       " ('Los Angeles', 580325, 0, 8664, 0, 0, 4265732),\n",
       " ('San Bernardino', 144455, 0, 1323, 0, 22562, 1405918),\n",
       " ('Riverside', 135751, 0, 1708, 0, 62504, 1403242),\n",
       " ('San Diego', 116852, 0, 1239, 0, 30710, 2373395),\n",
       " ('Orange', 115260, 0, 1731, 0, 43523, 1789453),\n",
       " ('Kern', 55801, 0, 476, 0, 35902, 307692),\n",
       " ('Sacramento', 53185, 0, 727, 0, 14621, 840862),\n",
       " ('Santa Clara', 52414, 0, 566, 0, 51848, 1614126),\n",
       " ('Fresno', 49173, 0, 557, 0, 21874, 517191),\n",
       " ('Alameda', 40751, 0, 574, 0, 0, 1176749),\n",
       " ('San Joaquin', 35010, 0, 556, 0, 4750, 0),\n",
       " ('Contra Costa', 33072, 0, 290, 0, 5831, 726907),\n",
       " ('Stanislaus', 30534, 0, 490, 0, 6078, 293616),\n",
       " ('Ventura', 28643, 0, 207, 0, 3182, 310661),\n",
       " ('Tulare', 27790, 0, 346, 0, 5525, 0),\n",
       " ('Monterey', 21107, 0, 167, 0, 8597, 157457),\n",
       " ('Imperial', 20003, 0, 394, 0, 2475, 101629),\n",
       " ('San Mateo', 19645, 0, 183, 0, 0, 313829),\n",
       " ('San Francisco', 19624, 0, 172, 0, 0, 1017667),\n",
       " ('Sonoma', 15768, 0, 166, 0, 4252, 345071),\n",
       " ('Merced', 15443, 0, 207, 0, 3623, 84796),\n",
       " ('Solano', 14713, 0, 93, 0, 2223, 151566),\n",
       " ('Santa Barbara', 14190, 0, 145, 0, 1120, 297782),\n",
       " ('Kings', 14073, 0, 101, 0, 4276, 112902),\n",
       " ('Placer', 10554, 0, 98, 0, 2921, 192208),\n",
       " ('Marin', 8804, 0, 136, 0, 772, 228590),\n",
       " ('Madera', 8441, 0, 111, 0, 2293, 116615),\n",
       " ('San Luis Obispo', 8269, 0, 56, 0, 1645, 0),\n",
       " ('Shasta', 7000, 0, 65, 0, 528, 104849),\n",
       " ('Yolo', 6649, 0, 99, 0, 0, 65973),\n",
       " ('Santa Cruz', 6536, 0, 64, 0, 1805, 92398),\n",
       " ('Butte', 5765, 0, 74, 0, 805, 108704),\n",
       " ('Sutter', 5290, 0, 39, 0, 830, 0),\n",
       " ('Napa', 4544, 0, 26, 0, 2628, 123349),\n",
       " ('El Dorado', 4412, 0, 8, 0, 1643, 87871),\n",
       " ('Lassen', 3742, 0, 7, 0, 1238, 11662),\n",
       " ('Yuba', 3122, 0, 14, 0, 586, 0),\n",
       " ('San Benito', 2687, 0, 23, 0, 450, 22582),\n",
       " ('Tehama', 2627, 0, 31, 0, 775, 20622),\n",
       " ('Nevada', 2149, 0, 34, 0, 534, 31800),\n",
       " ('Mendocino', 2108, 0, 24, 0, 340, 38875),\n",
       " ('Tuolumne', 2076, 0, 19, 0, 785, 19900),\n",
       " ('Amador', 1693, 0, 19, 0, 0, 16000),\n",
       " ('Lake', 1375, 0, 21, 0, 163, 21005),\n",
       " ('Humboldt', 1374, 0, 15, 0, 391, 51366),\n",
       " ('Glenn', 1254, 0, 12, 0, 104, 0),\n",
       " ('Colusa', 1050, 0, 8, 0, 168, 9612),\n",
       " ('Siskiyou', 1001, 0, 8, 0, 88, 16220),\n",
       " ('Calaveras', 821, 0, 22, 0, 244, 0),\n",
       " ('Mono', 702, 0, 3, 0, 0, 0),\n",
       " ('Del Norte', 605, 0, 2, 0, 132, 11315),\n",
       " ('Inyo', 468, 0, 19, 0, 117, 11864),\n",
       " ('Plumas', 385, 0, 1, 0, 82, 6475),\n",
       " ('Modoc', 265, 0, 0, 0, 75, 6145),\n",
       " ('Trinity', 245, 0, 2, 0, 29, 4988),\n",
       " ('Mariposa', 185, 0, 4, 0, 12, 10645),\n",
       " ('Alpine', 64, 0, 0, 0, 5, 0),\n",
       " ('Sierra', 32, 0, 0, 0, 7, 0),\n",
       " ('Alameda - Berkeley', 0, 0, 0, 0, 0, 0),\n",
       " ('Yuba-Sutter', 0, 0, 0, 0, 0, 0)]"
      ]
     },
     "metadata": {},
     "execution_count": 107
    }
   ],
   "source": [
    "headings = []\n",
    "for i in range(len(head)):\n",
    "    county = []\n",
    "    for i, th in enumerate(head[i].find_all('td')):\n",
    "        if i == 7:\n",
    "            continue\n",
    "        value = th.text.replace('\\n','').strip()\n",
    "        if value == \"\" or value == 'N/A':\n",
    "            value = 0\n",
    "        if i != 0 and type(value) is str:\n",
    "            letter = ''\n",
    "            for char in value:\n",
    "                if char ==',':\n",
    "                    continue\n",
    "                letter += char\n",
    "            letter = letter.strip()\n",
    "            value = int(letter)\n",
    "        county.append(value)\n",
    "    headings.append(tuple(county))\n",
    "headings\n",
    "\n",
    "\n",
    "# headings = []\n",
    "# for "
   ]
  },
  {
   "cell_type": "code",
   "execution_count": null,
   "metadata": {},
   "outputs": [],
   "source": []
  }
 ]
}